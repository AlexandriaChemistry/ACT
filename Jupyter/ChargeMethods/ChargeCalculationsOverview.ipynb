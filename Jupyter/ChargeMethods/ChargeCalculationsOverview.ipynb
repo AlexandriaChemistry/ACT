{
 "cells": [
  {
   "cell_type": "markdown",
   "metadata": {},
   "source": [
    "## Charge calculations methods in Alexandria\n",
    "David van der Spoel, Department of Cell and Molecular Biology, Uppsala University, Sweden. david.vanderspoel@icm.uu.se "
   ]
  },
  {
   "cell_type": "markdown",
   "metadata": {},
   "source": [
    "## Electronegativity equalization method\n",
    "Two variants of the electronegativity method are described here:\n",
    "- [The standard version with just atoms](EEM-without-shells.ipynb)\n",
    "- [An version where polarizable drude/shell particles are taken into account](EEM-with-shells.ipynb)"
   ]
  },
  {
   "cell_type": "markdown",
   "metadata": {},
   "source": [
    "## Split charge equilibration\n",
    "The split charge equilibration (SQE) method postulates that partial charges $q_i$ on atoms \n",
    "can only arise from transfer of charge $p_{ij}$ between bonded atoms $i$ and $j$. In these documents we describe these using two different notations.\n",
    "- [SQE with just atoms for neutral compounds only](SQE-without-shells.ipynb)\n",
    "- [SQE with just atoms using the incidence matrix notation for neutral and charged compounds](SQE-incidence.ipynb)\n",
    "- [SQE with atoms and shells for neutral and charged compounds](SQE-with-shells.ipynb)\n"
   ]
  },
  {
   "cell_type": "code",
   "execution_count": null,
   "metadata": {},
   "outputs": [],
   "source": []
  }
 ],
 "metadata": {
  "kernelspec": {
   "display_name": "Python 3 (ipykernel)",
   "language": "python",
   "name": "python3"
  },
  "language_info": {
   "codemirror_mode": {
    "name": "ipython",
    "version": 3
   },
   "file_extension": ".py",
   "mimetype": "text/x-python",
   "name": "python",
   "nbconvert_exporter": "python",
   "pygments_lexer": "ipython3",
   "version": "3.9.15"
  }
 },
 "nbformat": 4,
 "nbformat_minor": 4
}
